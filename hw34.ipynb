{
 "cells": [
  {
   "cell_type": "code",
   "execution_count": 24,
   "metadata": {},
   "outputs": [
    {
     "data": {
      "text/plain": [
       "{'City', 'Event gender', 'Medal', 'Sport', 'Year'}"
      ]
     },
     "execution_count": 24,
     "metadata": {},
     "output_type": "execute_result"
    }
   ],
   "source": [
    "# dataframe.py\n",
    "import pandas as pd\n",
    "import hw2\n",
    "\n",
    "df_filt = hw2.base_data()\n",
    "set(df_filt.columns)\n",
    "# if set(df_filt.columns) != set(['Year', 'City', 'Sport', 'Event gender', 'Medal']):\n",
    "#     raise ValueError('Dataframe does not have only the supported columns')"
   ]
  },
  {
   "cell_type": "code",
   "execution_count": 27,
   "metadata": {},
   "outputs": [
    {
     "data": {
      "text/plain": [
       "{'City', 'Event gender', 'Medal', 'Sport', 'Year'}"
      ]
     },
     "execution_count": 27,
     "metadata": {},
     "output_type": "execute_result"
    }
   ],
   "source": [
    "set(['Year', 'City', 'Sport', 'Event gender', 'Medal'])"
   ]
  },
  {
   "cell_type": "code",
   "execution_count": 8,
   "metadata": {},
   "outputs": [
    {
     "data": {
      "text/plain": [
       "array([0, 1, 2, 3])"
      ]
     },
     "execution_count": 8,
     "metadata": {},
     "output_type": "execute_result"
    }
   ],
   "source": [
    "# test_dataframe.py\n",
    "import pandas as pd\n",
    "import dataframe\n",
    "import hw2\n",
    "\n",
    "\n",
    "df = hw2.base_data()\n",
    "\n",
    "\n",
    "def expected_cols(dataframe):\n",
    "    if set(dataframe.columns) != set(df.columns):\n",
    "        raise ValueError('You do not have the expected columns')\n",
    "        \n",
    "def exp_cols_type(dataframe):\n",
    "    exp_cols(dataframe)\n",
    "    for i in dataframe.columns:\n",
    "        if df[i].dtype != dataframe[i].dtype:\n",
    "            raise ValueError('Columns are not of same type')\n",
    "\n",
    "def no_nan(dataframe):\n",
    "    if !dataframe.isna():\n",
    "        raise ValueError('There are NaN values present')\n",
    "        \n",
    "def atleast_one_row(dataframe):\n",
    "    if len(dataframe) < 1:\n",
    "        raise ValueError('The dataframe does not have at least one row')"
   ]
  }
 ],
 "metadata": {
  "kernelspec": {
   "display_name": "Python 3",
   "language": "python",
   "name": "python3"
  },
  "language_info": {
   "codemirror_mode": {
    "name": "ipython",
    "version": 3
   },
   "file_extension": ".py",
   "mimetype": "text/x-python",
   "name": "python",
   "nbconvert_exporter": "python",
   "pygments_lexer": "ipython3",
   "version": "3.7.2"
  }
 },
 "nbformat": 4,
 "nbformat_minor": 2
}
